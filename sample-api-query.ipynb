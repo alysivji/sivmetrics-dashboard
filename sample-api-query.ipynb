{
 "cells": [
  {
   "cell_type": "code",
   "execution_count": 1,
   "metadata": {
    "collapsed": true
   },
   "outputs": [],
   "source": [
    "import os\n",
    "import requests"
   ]
  },
  {
   "cell_type": "code",
   "execution_count": 2,
   "metadata": {
    "collapsed": true
   },
   "outputs": [],
   "source": [
    "CTA_BASE_URL = 'http://www.ctabustracker.com/bustime/api/v2/getpredictions'\n",
    "CTA_API_KEY = os.getenv('CTA_API_KEY', None)"
   ]
  },
  {
   "cell_type": "code",
   "execution_count": 3,
   "metadata": {
    "collapsed": true
   },
   "outputs": [],
   "source": [
    "payload = {\n",
    "    'key': CTA_API_KEY,\n",
    "    'rt': 146,\n",
    "    'stpid': 1066,\n",
    "    'format': 'json'\n",
    "}"
   ]
  },
  {
   "cell_type": "code",
   "execution_count": 4,
   "metadata": {
    "collapsed": true
   },
   "outputs": [],
   "source": [
    "r = requests.get(CTA_BASE_URL, params=payload)"
   ]
  },
  {
   "cell_type": "code",
   "execution_count": 5,
   "metadata": {},
   "outputs": [
    {
     "data": {
      "text/plain": [
       "<Response [200]>"
      ]
     },
     "execution_count": 5,
     "metadata": {},
     "output_type": "execute_result"
    }
   ],
   "source": [
    "r"
   ]
  },
  {
   "cell_type": "code",
   "execution_count": 6,
   "metadata": {},
   "outputs": [
    {
     "data": {
      "text/plain": [
       "{'bustime-response': {'prd': [{'des': 'Museum Campus',\n",
       "    'dly': False,\n",
       "    'dstp': 159,\n",
       "    'prdctdn': 'DUE',\n",
       "    'prdtm': '20171105 13:27',\n",
       "    'rt': '146',\n",
       "    'rtdd': '146',\n",
       "    'rtdir': 'Southbound',\n",
       "    'stpid': '1066',\n",
       "    'stpnm': 'Lake Shore & Stratford',\n",
       "    'tablockid': '146 -512',\n",
       "    'tatripid': '3163',\n",
       "    'tmstmp': '20171105 13:26',\n",
       "    'typ': 'A',\n",
       "    'vid': '4364',\n",
       "    'zone': ''},\n",
       "   {'des': 'Museum Campus',\n",
       "    'dly': False,\n",
       "    'dstp': 2943,\n",
       "    'prdctdn': '4',\n",
       "    'prdtm': '20171105 13:32',\n",
       "    'rt': '146',\n",
       "    'rtdd': '146',\n",
       "    'rtdir': 'Southbound',\n",
       "    'stpid': '1066',\n",
       "    'stpnm': 'Lake Shore & Stratford',\n",
       "    'tablockid': '146 -501',\n",
       "    'tatripid': '3164',\n",
       "    'tmstmp': '20171105 13:26',\n",
       "    'typ': 'A',\n",
       "    'vid': '4335',\n",
       "    'zone': ''}]}}"
      ]
     },
     "execution_count": 6,
     "metadata": {},
     "output_type": "execute_result"
    }
   ],
   "source": [
    "r.json()"
   ]
  },
  {
   "cell_type": "code",
   "execution_count": null,
   "metadata": {
    "collapsed": true
   },
   "outputs": [],
   "source": []
  }
 ],
 "metadata": {
  "kernelspec": {
   "display_name": "Python 3",
   "language": "python",
   "name": "python3"
  },
  "language_info": {
   "codemirror_mode": {
    "name": "ipython",
    "version": 3
   },
   "file_extension": ".py",
   "mimetype": "text/x-python",
   "name": "python",
   "nbconvert_exporter": "python",
   "pygments_lexer": "ipython3",
   "version": "3.6.1"
  }
 },
 "nbformat": 4,
 "nbformat_minor": 2
}
